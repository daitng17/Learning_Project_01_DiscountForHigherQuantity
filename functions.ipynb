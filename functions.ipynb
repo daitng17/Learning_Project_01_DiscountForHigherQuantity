{
  "nbformat": 4,
  "nbformat_minor": 0,
  "metadata": {
    "colab": {
      "name": "functions.ipynb",
      "provenance": [],
      "authorship_tag": "ABX9TyMwcy/QGE6XDCyi6nELazfb",
      "include_colab_link": true
    },
    "kernelspec": {
      "name": "python3",
      "display_name": "Python 3"
    }
  },
  "cells": [
    {
      "cell_type": "markdown",
      "metadata": {
        "id": "view-in-github",
        "colab_type": "text"
      },
      "source": [
        "<a href=\"https://colab.research.google.com/github/thanhdtnguyen/Python-3-Programming/blob/master/functions.ipynb\" target=\"_parent\"><img src=\"https://colab.research.google.com/assets/colab-badge.svg\" alt=\"Open In Colab\"/></a>"
      ]
    },
    {
      "cell_type": "code",
      "metadata": {
        "id": "61_YFaWXuYDl",
        "colab": {
          "base_uri": "https://localhost:8080/"
        },
        "outputId": "deef0676-9e88-43ef-815d-a1eb4c8c55d1"
      },
      "source": [
        "### return values and return statements\n",
        "# magic8Ball\n",
        "import random\n",
        "\n",
        "def get_answer(answer_number):\n",
        "  if answer_number == 1:\n",
        "    return \"It is certain\"\n",
        "  elif answer_number == 2:\n",
        "    return \"It is decidedly so\"\n",
        "  elif answer_number == 3:\n",
        "    return \"Yes\"\n",
        "  elif answer_number == 4:\n",
        "    return \"Reply hazy try again\"\n",
        "  elif answer_number == 5:\n",
        "    return \"Ask again later\"\n",
        "  elif answer_number == 6:\n",
        "    return \"Concentrate and ask again\"\n",
        "  elif answer_number == 7:\n",
        "    return \"My reply is no\"\n",
        "  elif answer_number == 8:\n",
        "    return \"Outlook is not so good\"\n",
        "  elif answer_number == 9:\n",
        "    return \"Very doubtful\"\n",
        "  \n",
        "r = random.randint(1,9)\n",
        "fortune = get_answer(r)\n",
        "print(fortune)"
      ],
      "execution_count": null,
      "outputs": [
        {
          "output_type": "stream",
          "text": [
            "It is decidedly so\n"
          ],
          "name": "stdout"
        }
      ]
    },
    {
      "cell_type": "code",
      "metadata": {
        "id": "T2sky07ZvbYy",
        "colab": {
          "base_uri": "https://localhost:8080/"
        },
        "outputId": "e837219f-a81c-4490-f96b-8ca2d88603b1"
      },
      "source": [
        "# work the same but in a single line\n",
        "print(get_answer(random.randint(1,9)))"
      ],
      "execution_count": null,
      "outputs": [
        {
          "output_type": "stream",
          "text": [
            "Ask again later\n"
          ],
          "name": "stdout"
        }
      ]
    },
    {
      "cell_type": "code",
      "metadata": {
        "id": "T3CqRz78vqxr",
        "colab": {
          "base_uri": "https://localhost:8080/"
        },
        "outputId": "7abe78b5-0ba3-4ca9-f68b-a62c8ec4fe96"
      },
      "source": [
        "### the None value\n",
        "spam = print(\"Hi\")\n",
        "\n",
        "None == spam"
      ],
      "execution_count": null,
      "outputs": [
        {
          "output_type": "stream",
          "text": [
            "Hi\n"
          ],
          "name": "stdout"
        },
        {
          "output_type": "execute_result",
          "data": {
            "text/plain": [
              "True"
            ]
          },
          "metadata": {
            "tags": []
          },
          "execution_count": 2
        }
      ]
    },
    {
      "cell_type": "code",
      "metadata": {
        "colab": {
          "base_uri": "https://localhost:8080/"
        },
        "id": "5VA7euIPYu4q",
        "outputId": "22ed4643-ab58-49a2-a98e-7c49bacd1db0"
      },
      "source": [
        "print(\"Hello\", end=\" \")\n",
        "print(\"Thanh\")"
      ],
      "execution_count": null,
      "outputs": [
        {
          "output_type": "stream",
          "text": [
            "Hello Thanh\n"
          ],
          "name": "stdout"
        }
      ]
    },
    {
      "cell_type": "code",
      "metadata": {
        "colab": {
          "base_uri": "https://localhost:8080/"
        },
        "id": "373GXd_DZeWZ",
        "outputId": "8c86af09-540e-4aba-a7fd-84cd33914bef"
      },
      "source": [
        "print(\"a\", \"b\", \"c\", sep=\", \")"
      ],
      "execution_count": null,
      "outputs": [
        {
          "output_type": "stream",
          "text": [
            "a, b, c\n"
          ],
          "name": "stdout"
        }
      ]
    },
    {
      "cell_type": "code",
      "metadata": {
        "id": "EP7B_2LDSzJ9",
        "colab": {
          "base_uri": "https://localhost:8080/"
        },
        "outputId": "8146e3f3-956b-4c2b-c249-f9fe6a25d6d0"
      },
      "source": [
        "def spam(divideBy):\n",
        "  try:\n",
        "    return 40 / divideBy\n",
        "  except ZeroDivisionError:\n",
        "    print(\"Error: Invalid argument!\")\n",
        "\n",
        "print(spam(2))\n",
        "print(spam(0))\n",
        "print(spam(4))"
      ],
      "execution_count": null,
      "outputs": [
        {
          "output_type": "stream",
          "text": [
            "20.0\n",
            "Error: Invalid argument!\n",
            "None\n",
            "10.0\n"
          ],
          "name": "stdout"
        }
      ]
    }
  ]
}