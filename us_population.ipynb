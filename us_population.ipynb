{
  "nbformat": 4,
  "nbformat_minor": 0,
  "metadata": {
    "colab": {
      "name": "us_population.ipynb",
      "provenance": [],
      "authorship_tag": "ABX9TyMWHNZGeWPd5i1LHgWRum+h",
      "include_colab_link": true
    },
    "kernelspec": {
      "name": "python3",
      "display_name": "Python 3"
    }
  },
  "cells": [
    {
      "cell_type": "markdown",
      "metadata": {
        "id": "view-in-github",
        "colab_type": "text"
      },
      "source": [
        "<a href=\"https://colab.research.google.com/github/thanhdtnguyen/Python-3-Programming/blob/master/us_population.ipynb\" target=\"_parent\"><img src=\"https://colab.research.google.com/assets/colab-badge.svg\" alt=\"Open In Colab\"/></a>"
      ]
    },
    {
      "cell_type": "code",
      "metadata": {
        "colab": {
          "base_uri": "https://localhost:8080/",
          "height": 476
        },
        "id": "3QGivG3_OcLC",
        "outputId": "53a7a057-821a-4252-8a9f-b50f36354625"
      },
      "source": [
        "import numpy as np\n",
        "from datascience import *\n",
        "\n",
        "data = 'http://www2.census.gov/programs-surveys/popest/datasets/2010-2015/national/asrh/nc-est2015-agesex-res.csv'\n",
        "\n",
        "full_census_table = Table.read_table(data)\n",
        "full_census_table"
      ],
      "execution_count": 1,
      "outputs": [
        {
          "output_type": "stream",
          "text": [
            "/usr/local/lib/python3.6/dist-packages/datascience/tables.py:17: MatplotlibDeprecationWarning: The 'warn' parameter of use() is deprecated since Matplotlib 3.1 and will be removed in 3.3.  If any parameter follows 'warn', they should be pass as keyword, not positionally.\n",
            "  matplotlib.use('agg', warn=False)\n",
            "/usr/local/lib/python3.6/dist-packages/datascience/util.py:10: MatplotlibDeprecationWarning: The 'warn' parameter of use() is deprecated since Matplotlib 3.1 and will be removed in 3.3.  If any parameter follows 'warn', they should be pass as keyword, not positionally.\n",
            "  matplotlib.use('agg', warn=False)\n"
          ],
          "name": "stderr"
        },
        {
          "output_type": "execute_result",
          "data": {
            "text/html": [
              "<table border=\"1\" class=\"dataframe\">\n",
              "    <thead>\n",
              "        <tr>\n",
              "            <th>SEX</th> <th>AGE</th> <th>CENSUS2010POP</th> <th>ESTIMATESBASE2010</th> <th>POPESTIMATE2010</th> <th>POPESTIMATE2011</th> <th>POPESTIMATE2012</th> <th>POPESTIMATE2013</th> <th>POPESTIMATE2014</th> <th>POPESTIMATE2015</th>\n",
              "        </tr>\n",
              "    </thead>\n",
              "    <tbody>\n",
              "        <tr>\n",
              "            <td>0   </td> <td>0   </td> <td>3944153      </td> <td>3944160          </td> <td>3951330        </td> <td>3963087        </td> <td>3926540        </td> <td>3931141        </td> <td>3949775        </td> <td>3978038        </td>\n",
              "        </tr>\n",
              "        <tr>\n",
              "            <td>0   </td> <td>1   </td> <td>3978070      </td> <td>3978090          </td> <td>3957888        </td> <td>3966551        </td> <td>3977939        </td> <td>3942872        </td> <td>3949776        </td> <td>3968564        </td>\n",
              "        </tr>\n",
              "        <tr>\n",
              "            <td>0   </td> <td>2   </td> <td>4096929      </td> <td>4096939          </td> <td>4090862        </td> <td>3971565        </td> <td>3980095        </td> <td>3992720        </td> <td>3959664        </td> <td>3966583        </td>\n",
              "        </tr>\n",
              "        <tr>\n",
              "            <td>0   </td> <td>3   </td> <td>4119040      </td> <td>4119051          </td> <td>4111920        </td> <td>4102470        </td> <td>3983157        </td> <td>3992734        </td> <td>4007079        </td> <td>3974061        </td>\n",
              "        </tr>\n",
              "        <tr>\n",
              "            <td>0   </td> <td>4   </td> <td>4063170      </td> <td>4063186          </td> <td>4077551        </td> <td>4122294        </td> <td>4112849        </td> <td>3994449        </td> <td>4005716        </td> <td>4020035        </td>\n",
              "        </tr>\n",
              "        <tr>\n",
              "            <td>0   </td> <td>5   </td> <td>4056858      </td> <td>4056872          </td> <td>4064653        </td> <td>4087709        </td> <td>4132242        </td> <td>4123626        </td> <td>4006900        </td> <td>4018158        </td>\n",
              "        </tr>\n",
              "        <tr>\n",
              "            <td>0   </td> <td>6   </td> <td>4066381      </td> <td>4066412          </td> <td>4073013        </td> <td>4074993        </td> <td>4097605        </td> <td>4142916        </td> <td>4135930        </td> <td>4019207        </td>\n",
              "        </tr>\n",
              "        <tr>\n",
              "            <td>0   </td> <td>7   </td> <td>4030579      </td> <td>4030594          </td> <td>4043046        </td> <td>4083225        </td> <td>4084913        </td> <td>4108349        </td> <td>4155326        </td> <td>4148360        </td>\n",
              "        </tr>\n",
              "        <tr>\n",
              "            <td>0   </td> <td>8   </td> <td>4046486      </td> <td>4046497          </td> <td>4025604        </td> <td>4053203        </td> <td>4093177        </td> <td>4095711        </td> <td>4120903        </td> <td>4167887        </td>\n",
              "        </tr>\n",
              "        <tr>\n",
              "            <td>0   </td> <td>9   </td> <td>4148353      </td> <td>4148369          </td> <td>4125415        </td> <td>4035710        </td> <td>4063152        </td> <td>4104072        </td> <td>4108349        </td> <td>4133564        </td>\n",
              "        </tr>\n",
              "    </tbody>\n",
              "</table>\n",
              "<p>... (296 rows omitted)</p>"
            ],
            "text/plain": [
              "SEX  | AGE  | CENSUS2010POP | ESTIMATESBASE2010 | POPESTIMATE2010 | POPESTIMATE2011 | POPESTIMATE2012 | POPESTIMATE2013 | POPESTIMATE2014 | POPESTIMATE2015\n",
              "0    | 0    | 3944153       | 3944160           | 3951330         | 3963087         | 3926540         | 3931141         | 3949775         | 3978038\n",
              "0    | 1    | 3978070       | 3978090           | 3957888         | 3966551         | 3977939         | 3942872         | 3949776         | 3968564\n",
              "0    | 2    | 4096929       | 4096939           | 4090862         | 3971565         | 3980095         | 3992720         | 3959664         | 3966583\n",
              "0    | 3    | 4119040       | 4119051           | 4111920         | 4102470         | 3983157         | 3992734         | 4007079         | 3974061\n",
              "0    | 4    | 4063170       | 4063186           | 4077551         | 4122294         | 4112849         | 3994449         | 4005716         | 4020035\n",
              "0    | 5    | 4056858       | 4056872           | 4064653         | 4087709         | 4132242         | 4123626         | 4006900         | 4018158\n",
              "0    | 6    | 4066381       | 4066412           | 4073013         | 4074993         | 4097605         | 4142916         | 4135930         | 4019207\n",
              "0    | 7    | 4030579       | 4030594           | 4043046         | 4083225         | 4084913         | 4108349         | 4155326         | 4148360\n",
              "0    | 8    | 4046486       | 4046497           | 4025604         | 4053203         | 4093177         | 4095711         | 4120903         | 4167887\n",
              "0    | 9    | 4148353       | 4148369           | 4125415         | 4035710         | 4063152         | 4104072         | 4108349         | 4133564\n",
              "... (296 rows omitted)"
            ]
          },
          "metadata": {
            "tags": []
          },
          "execution_count": 1
        }
      ]
    },
    {
      "cell_type": "code",
      "metadata": {
        "colab": {
          "base_uri": "https://localhost:8080/",
          "height": 388
        },
        "id": "jMHfpMwEOz8o",
        "outputId": "967c2035-8412-4aa7-d792-3e10ca7fa7cc"
      },
      "source": [
        "partial_census_table = full_census_table.select(\"SEX\", \"AGE\", \"POPESTIMATE2010\", \"POPESTIMATE2014\")\n",
        "partial_census_table"
      ],
      "execution_count": 2,
      "outputs": [
        {
          "output_type": "execute_result",
          "data": {
            "text/html": [
              "<table border=\"1\" class=\"dataframe\">\n",
              "    <thead>\n",
              "        <tr>\n",
              "            <th>SEX</th> <th>AGE</th> <th>POPESTIMATE2010</th> <th>POPESTIMATE2014</th>\n",
              "        </tr>\n",
              "    </thead>\n",
              "    <tbody>\n",
              "        <tr>\n",
              "            <td>0   </td> <td>0   </td> <td>3951330        </td> <td>3949775        </td>\n",
              "        </tr>\n",
              "        <tr>\n",
              "            <td>0   </td> <td>1   </td> <td>3957888        </td> <td>3949776        </td>\n",
              "        </tr>\n",
              "        <tr>\n",
              "            <td>0   </td> <td>2   </td> <td>4090862        </td> <td>3959664        </td>\n",
              "        </tr>\n",
              "        <tr>\n",
              "            <td>0   </td> <td>3   </td> <td>4111920        </td> <td>4007079        </td>\n",
              "        </tr>\n",
              "        <tr>\n",
              "            <td>0   </td> <td>4   </td> <td>4077551        </td> <td>4005716        </td>\n",
              "        </tr>\n",
              "        <tr>\n",
              "            <td>0   </td> <td>5   </td> <td>4064653        </td> <td>4006900        </td>\n",
              "        </tr>\n",
              "        <tr>\n",
              "            <td>0   </td> <td>6   </td> <td>4073013        </td> <td>4135930        </td>\n",
              "        </tr>\n",
              "        <tr>\n",
              "            <td>0   </td> <td>7   </td> <td>4043046        </td> <td>4155326        </td>\n",
              "        </tr>\n",
              "        <tr>\n",
              "            <td>0   </td> <td>8   </td> <td>4025604        </td> <td>4120903        </td>\n",
              "        </tr>\n",
              "        <tr>\n",
              "            <td>0   </td> <td>9   </td> <td>4125415        </td> <td>4108349        </td>\n",
              "        </tr>\n",
              "    </tbody>\n",
              "</table>\n",
              "<p>... (296 rows omitted)</p>"
            ],
            "text/plain": [
              "SEX  | AGE  | POPESTIMATE2010 | POPESTIMATE2014\n",
              "0    | 0    | 3951330         | 3949775\n",
              "0    | 1    | 3957888         | 3949776\n",
              "0    | 2    | 4090862         | 3959664\n",
              "0    | 3    | 4111920         | 4007079\n",
              "0    | 4    | 4077551         | 4005716\n",
              "0    | 5    | 4064653         | 4006900\n",
              "0    | 6    | 4073013         | 4135930\n",
              "0    | 7    | 4043046         | 4155326\n",
              "0    | 8    | 4025604         | 4120903\n",
              "0    | 9    | 4125415         | 4108349\n",
              "... (296 rows omitted)"
            ]
          },
          "metadata": {
            "tags": []
          },
          "execution_count": 2
        }
      ]
    },
    {
      "cell_type": "code",
      "metadata": {
        "colab": {
          "base_uri": "https://localhost:8080/",
          "height": 388
        },
        "id": "-l078uXkP7nk",
        "outputId": "ed324456-238e-4923-f6fb-232222a88f20"
      },
      "source": [
        "# simplify the labels\n",
        "\n",
        "us_pop = partial_census_table.relabeled(\"POPESTIMATE2010\", \"2010\").relabeled(\"POPESTIMATE2014\", \"2014\")\n",
        "us_pop"
      ],
      "execution_count": 3,
      "outputs": [
        {
          "output_type": "execute_result",
          "data": {
            "text/html": [
              "<table border=\"1\" class=\"dataframe\">\n",
              "    <thead>\n",
              "        <tr>\n",
              "            <th>SEX</th> <th>AGE</th> <th>2010</th> <th>2014</th>\n",
              "        </tr>\n",
              "    </thead>\n",
              "    <tbody>\n",
              "        <tr>\n",
              "            <td>0   </td> <td>0   </td> <td>3951330</td> <td>3949775</td>\n",
              "        </tr>\n",
              "        <tr>\n",
              "            <td>0   </td> <td>1   </td> <td>3957888</td> <td>3949776</td>\n",
              "        </tr>\n",
              "        <tr>\n",
              "            <td>0   </td> <td>2   </td> <td>4090862</td> <td>3959664</td>\n",
              "        </tr>\n",
              "        <tr>\n",
              "            <td>0   </td> <td>3   </td> <td>4111920</td> <td>4007079</td>\n",
              "        </tr>\n",
              "        <tr>\n",
              "            <td>0   </td> <td>4   </td> <td>4077551</td> <td>4005716</td>\n",
              "        </tr>\n",
              "        <tr>\n",
              "            <td>0   </td> <td>5   </td> <td>4064653</td> <td>4006900</td>\n",
              "        </tr>\n",
              "        <tr>\n",
              "            <td>0   </td> <td>6   </td> <td>4073013</td> <td>4135930</td>\n",
              "        </tr>\n",
              "        <tr>\n",
              "            <td>0   </td> <td>7   </td> <td>4043046</td> <td>4155326</td>\n",
              "        </tr>\n",
              "        <tr>\n",
              "            <td>0   </td> <td>8   </td> <td>4025604</td> <td>4120903</td>\n",
              "        </tr>\n",
              "        <tr>\n",
              "            <td>0   </td> <td>9   </td> <td>4125415</td> <td>4108349</td>\n",
              "        </tr>\n",
              "    </tbody>\n",
              "</table>\n",
              "<p>... (296 rows omitted)</p>"
            ],
            "text/plain": [
              "SEX  | AGE  | 2010    | 2014\n",
              "0    | 0    | 3951330 | 3949775\n",
              "0    | 1    | 3957888 | 3949776\n",
              "0    | 2    | 4090862 | 3959664\n",
              "0    | 3    | 4111920 | 4007079\n",
              "0    | 4    | 4077551 | 4005716\n",
              "0    | 5    | 4064653 | 4006900\n",
              "0    | 6    | 4073013 | 4135930\n",
              "0    | 7    | 4043046 | 4155326\n",
              "0    | 8    | 4025604 | 4120903\n",
              "0    | 9    | 4125415 | 4108349\n",
              "... (296 rows omitted)"
            ]
          },
          "metadata": {
            "tags": []
          },
          "execution_count": 3
        }
      ]
    },
    {
      "cell_type": "code",
      "metadata": {
        "id": "KYAu--eGQNid"
      },
      "source": [
        "# change in the population bw 2010 and 2014\n",
        "\n",
        "change = us_pop.column(\"2014\") - us_pop.column(\"2010\")"
      ],
      "execution_count": 5,
      "outputs": []
    },
    {
      "cell_type": "code",
      "metadata": {
        "colab": {
          "base_uri": "https://localhost:8080/",
          "height": 388
        },
        "id": "fi5d-Ecush06",
        "outputId": "744f0e36-fc80-40ef-986d-a2c9c330d4ba"
      },
      "source": [
        "census = us_pop.with_columns(\n",
        "    \"Change\", change,\n",
        "    \"Percent Change\", change/us_pop.column(\"2010\")\n",
        ")\n",
        "census.set_format(\"Percent Change\", PercentFormatter)"
      ],
      "execution_count": 6,
      "outputs": [
        {
          "output_type": "execute_result",
          "data": {
            "text/html": [
              "<table border=\"1\" class=\"dataframe\">\n",
              "    <thead>\n",
              "        <tr>\n",
              "            <th>SEX</th> <th>AGE</th> <th>2010</th> <th>2014</th> <th>Change</th> <th>Percent Change</th>\n",
              "        </tr>\n",
              "    </thead>\n",
              "    <tbody>\n",
              "        <tr>\n",
              "            <td>0   </td> <td>0   </td> <td>3951330</td> <td>3949775</td> <td>-1555  </td> <td>-0.04%        </td>\n",
              "        </tr>\n",
              "        <tr>\n",
              "            <td>0   </td> <td>1   </td> <td>3957888</td> <td>3949776</td> <td>-8112  </td> <td>-0.20%        </td>\n",
              "        </tr>\n",
              "        <tr>\n",
              "            <td>0   </td> <td>2   </td> <td>4090862</td> <td>3959664</td> <td>-131198</td> <td>-3.21%        </td>\n",
              "        </tr>\n",
              "        <tr>\n",
              "            <td>0   </td> <td>3   </td> <td>4111920</td> <td>4007079</td> <td>-104841</td> <td>-2.55%        </td>\n",
              "        </tr>\n",
              "        <tr>\n",
              "            <td>0   </td> <td>4   </td> <td>4077551</td> <td>4005716</td> <td>-71835 </td> <td>-1.76%        </td>\n",
              "        </tr>\n",
              "        <tr>\n",
              "            <td>0   </td> <td>5   </td> <td>4064653</td> <td>4006900</td> <td>-57753 </td> <td>-1.42%        </td>\n",
              "        </tr>\n",
              "        <tr>\n",
              "            <td>0   </td> <td>6   </td> <td>4073013</td> <td>4135930</td> <td>62917  </td> <td>1.54%         </td>\n",
              "        </tr>\n",
              "        <tr>\n",
              "            <td>0   </td> <td>7   </td> <td>4043046</td> <td>4155326</td> <td>112280 </td> <td>2.78%         </td>\n",
              "        </tr>\n",
              "        <tr>\n",
              "            <td>0   </td> <td>8   </td> <td>4025604</td> <td>4120903</td> <td>95299  </td> <td>2.37%         </td>\n",
              "        </tr>\n",
              "        <tr>\n",
              "            <td>0   </td> <td>9   </td> <td>4125415</td> <td>4108349</td> <td>-17066 </td> <td>-0.41%        </td>\n",
              "        </tr>\n",
              "    </tbody>\n",
              "</table>\n",
              "<p>... (296 rows omitted)</p>"
            ],
            "text/plain": [
              "SEX  | AGE  | 2010    | 2014    | Change  | Percent Change\n",
              "0    | 0    | 3951330 | 3949775 | -1555   | -0.04%\n",
              "0    | 1    | 3957888 | 3949776 | -8112   | -0.20%\n",
              "0    | 2    | 4090862 | 3959664 | -131198 | -3.21%\n",
              "0    | 3    | 4111920 | 4007079 | -104841 | -2.55%\n",
              "0    | 4    | 4077551 | 4005716 | -71835  | -1.76%\n",
              "0    | 5    | 4064653 | 4006900 | -57753  | -1.42%\n",
              "0    | 6    | 4073013 | 4135930 | 62917   | 1.54%\n",
              "0    | 7    | 4043046 | 4155326 | 112280  | 2.78%\n",
              "0    | 8    | 4025604 | 4120903 | 95299   | 2.37%\n",
              "0    | 9    | 4125415 | 4108349 | -17066  | -0.41%\n",
              "... (296 rows omitted)"
            ]
          },
          "metadata": {
            "tags": []
          },
          "execution_count": 6
        }
      ]
    },
    {
      "cell_type": "code",
      "metadata": {
        "colab": {
          "base_uri": "https://localhost:8080/",
          "height": 388
        },
        "id": "Iw9LhLzCtC_n",
        "outputId": "86b966e5-07bf-4428-d75f-d833ed7cf0cf"
      },
      "source": [
        "# sorting\n",
        "\n",
        "census.sort(\"Change\", descending=True)"
      ],
      "execution_count": 7,
      "outputs": [
        {
          "output_type": "execute_result",
          "data": {
            "text/html": [
              "<table border=\"1\" class=\"dataframe\">\n",
              "    <thead>\n",
              "        <tr>\n",
              "            <th>SEX</th> <th>AGE</th> <th>2010</th> <th>2014</th> <th>Change</th> <th>Percent Change</th>\n",
              "        </tr>\n",
              "    </thead>\n",
              "    <tbody>\n",
              "        <tr>\n",
              "            <td>0   </td> <td>999 </td> <td>309346863</td> <td>318907401</td> <td>9560538</td> <td>3.09%         </td>\n",
              "        </tr>\n",
              "        <tr>\n",
              "            <td>1   </td> <td>999 </td> <td>152088043</td> <td>156955337</td> <td>4867294</td> <td>3.20%         </td>\n",
              "        </tr>\n",
              "        <tr>\n",
              "            <td>2   </td> <td>999 </td> <td>157258820</td> <td>161952064</td> <td>4693244</td> <td>2.98%         </td>\n",
              "        </tr>\n",
              "        <tr>\n",
              "            <td>0   </td> <td>67  </td> <td>2693707  </td> <td>3485241  </td> <td>791534 </td> <td>29.38%        </td>\n",
              "        </tr>\n",
              "        <tr>\n",
              "            <td>0   </td> <td>64  </td> <td>2706055  </td> <td>3487559  </td> <td>781504 </td> <td>28.88%        </td>\n",
              "        </tr>\n",
              "        <tr>\n",
              "            <td>0   </td> <td>66  </td> <td>2621335  </td> <td>3347060  </td> <td>725725 </td> <td>27.69%        </td>\n",
              "        </tr>\n",
              "        <tr>\n",
              "            <td>0   </td> <td>65  </td> <td>2678525  </td> <td>3382824  </td> <td>704299 </td> <td>26.29%        </td>\n",
              "        </tr>\n",
              "        <tr>\n",
              "            <td>0   </td> <td>71  </td> <td>1953607  </td> <td>2519705  </td> <td>566098 </td> <td>28.98%        </td>\n",
              "        </tr>\n",
              "        <tr>\n",
              "            <td>0   </td> <td>34  </td> <td>3822189  </td> <td>4364748  </td> <td>542559 </td> <td>14.19%        </td>\n",
              "        </tr>\n",
              "        <tr>\n",
              "            <td>0   </td> <td>23  </td> <td>4217228  </td> <td>4702156  </td> <td>484928 </td> <td>11.50%        </td>\n",
              "        </tr>\n",
              "    </tbody>\n",
              "</table>\n",
              "<p>... (296 rows omitted)</p>"
            ],
            "text/plain": [
              "SEX  | AGE  | 2010      | 2014      | Change  | Percent Change\n",
              "0    | 999  | 309346863 | 318907401 | 9560538 | 3.09%\n",
              "1    | 999  | 152088043 | 156955337 | 4867294 | 3.20%\n",
              "2    | 999  | 157258820 | 161952064 | 4693244 | 2.98%\n",
              "0    | 67   | 2693707   | 3485241   | 791534  | 29.38%\n",
              "0    | 64   | 2706055   | 3487559   | 781504  | 28.88%\n",
              "0    | 66   | 2621335   | 3347060   | 725725  | 27.69%\n",
              "0    | 65   | 2678525   | 3382824   | 704299  | 26.29%\n",
              "0    | 71   | 1953607   | 2519705   | 566098  | 28.98%\n",
              "0    | 34   | 3822189   | 4364748   | 542559  | 14.19%\n",
              "0    | 23   | 4217228   | 4702156   | 484928  | 11.50%\n",
              "... (296 rows omitted)"
            ]
          },
          "metadata": {
            "tags": []
          },
          "execution_count": 7
        }
      ]
    },
    {
      "cell_type": "code",
      "metadata": {
        "colab": {
          "base_uri": "https://localhost:8080/",
          "height": 388
        },
        "id": "gb7Y4XBltOSq",
        "outputId": "665d451b-e6d2-41cd-fc7c-11558b492dd1"
      },
      "source": [
        "census.sort(\"AGE\", descending=False)"
      ],
      "execution_count": 9,
      "outputs": [
        {
          "output_type": "execute_result",
          "data": {
            "text/html": [
              "<table border=\"1\" class=\"dataframe\">\n",
              "    <thead>\n",
              "        <tr>\n",
              "            <th>SEX</th> <th>AGE</th> <th>2010</th> <th>2014</th> <th>Change</th> <th>Percent Change</th>\n",
              "        </tr>\n",
              "    </thead>\n",
              "    <tbody>\n",
              "        <tr>\n",
              "            <td>0   </td> <td>0   </td> <td>3951330</td> <td>3949775</td> <td>-1555  </td> <td>-0.04%        </td>\n",
              "        </tr>\n",
              "        <tr>\n",
              "            <td>1   </td> <td>0   </td> <td>2018420</td> <td>2020326</td> <td>1906   </td> <td>0.09%         </td>\n",
              "        </tr>\n",
              "        <tr>\n",
              "            <td>2   </td> <td>0   </td> <td>1932910</td> <td>1929449</td> <td>-3461  </td> <td>-0.18%        </td>\n",
              "        </tr>\n",
              "        <tr>\n",
              "            <td>0   </td> <td>1   </td> <td>3957888</td> <td>3949776</td> <td>-8112  </td> <td>-0.20%        </td>\n",
              "        </tr>\n",
              "        <tr>\n",
              "            <td>1   </td> <td>1   </td> <td>2020332</td> <td>2018401</td> <td>-1931  </td> <td>-0.10%        </td>\n",
              "        </tr>\n",
              "        <tr>\n",
              "            <td>2   </td> <td>1   </td> <td>1937556</td> <td>1931375</td> <td>-6181  </td> <td>-0.32%        </td>\n",
              "        </tr>\n",
              "        <tr>\n",
              "            <td>0   </td> <td>2   </td> <td>4090862</td> <td>3959664</td> <td>-131198</td> <td>-3.21%        </td>\n",
              "        </tr>\n",
              "        <tr>\n",
              "            <td>1   </td> <td>2   </td> <td>2088685</td> <td>2023673</td> <td>-65012 </td> <td>-3.11%        </td>\n",
              "        </tr>\n",
              "        <tr>\n",
              "            <td>2   </td> <td>2   </td> <td>2002177</td> <td>1935991</td> <td>-66186 </td> <td>-3.31%        </td>\n",
              "        </tr>\n",
              "        <tr>\n",
              "            <td>0   </td> <td>3   </td> <td>4111920</td> <td>4007079</td> <td>-104841</td> <td>-2.55%        </td>\n",
              "        </tr>\n",
              "    </tbody>\n",
              "</table>\n",
              "<p>... (296 rows omitted)</p>"
            ],
            "text/plain": [
              "SEX  | AGE  | 2010    | 2014    | Change  | Percent Change\n",
              "0    | 0    | 3951330 | 3949775 | -1555   | -0.04%\n",
              "1    | 0    | 2018420 | 2020326 | 1906    | 0.09%\n",
              "2    | 0    | 1932910 | 1929449 | -3461   | -0.18%\n",
              "0    | 1    | 3957888 | 3949776 | -8112   | -0.20%\n",
              "1    | 1    | 2020332 | 2018401 | -1931   | -0.10%\n",
              "2    | 1    | 1937556 | 1931375 | -6181   | -0.32%\n",
              "0    | 2    | 4090862 | 3959664 | -131198 | -3.21%\n",
              "1    | 2    | 2088685 | 2023673 | -65012  | -3.11%\n",
              "2    | 2    | 2002177 | 1935991 | -66186  | -3.31%\n",
              "0    | 3    | 4111920 | 4007079 | -104841 | -2.55%\n",
              "... (296 rows omitted)"
            ]
          },
          "metadata": {
            "tags": []
          },
          "execution_count": 9
        }
      ]
    },
    {
      "cell_type": "code",
      "metadata": {
        "colab": {
          "base_uri": "https://localhost:8080/",
          "height": 388
        },
        "id": "bgK46Phgtwx6",
        "outputId": "6a5a60d8-c0c5-4c69-80bf-621b40366601"
      },
      "source": [
        "us_pop"
      ],
      "execution_count": 10,
      "outputs": [
        {
          "output_type": "execute_result",
          "data": {
            "text/html": [
              "<table border=\"1\" class=\"dataframe\">\n",
              "    <thead>\n",
              "        <tr>\n",
              "            <th>SEX</th> <th>AGE</th> <th>2010</th> <th>2014</th>\n",
              "        </tr>\n",
              "    </thead>\n",
              "    <tbody>\n",
              "        <tr>\n",
              "            <td>0   </td> <td>0   </td> <td>3951330</td> <td>3949775</td>\n",
              "        </tr>\n",
              "        <tr>\n",
              "            <td>0   </td> <td>1   </td> <td>3957888</td> <td>3949776</td>\n",
              "        </tr>\n",
              "        <tr>\n",
              "            <td>0   </td> <td>2   </td> <td>4090862</td> <td>3959664</td>\n",
              "        </tr>\n",
              "        <tr>\n",
              "            <td>0   </td> <td>3   </td> <td>4111920</td> <td>4007079</td>\n",
              "        </tr>\n",
              "        <tr>\n",
              "            <td>0   </td> <td>4   </td> <td>4077551</td> <td>4005716</td>\n",
              "        </tr>\n",
              "        <tr>\n",
              "            <td>0   </td> <td>5   </td> <td>4064653</td> <td>4006900</td>\n",
              "        </tr>\n",
              "        <tr>\n",
              "            <td>0   </td> <td>6   </td> <td>4073013</td> <td>4135930</td>\n",
              "        </tr>\n",
              "        <tr>\n",
              "            <td>0   </td> <td>7   </td> <td>4043046</td> <td>4155326</td>\n",
              "        </tr>\n",
              "        <tr>\n",
              "            <td>0   </td> <td>8   </td> <td>4025604</td> <td>4120903</td>\n",
              "        </tr>\n",
              "        <tr>\n",
              "            <td>0   </td> <td>9   </td> <td>4125415</td> <td>4108349</td>\n",
              "        </tr>\n",
              "    </tbody>\n",
              "</table>\n",
              "<p>... (296 rows omitted)</p>"
            ],
            "text/plain": [
              "SEX  | AGE  | 2010    | 2014\n",
              "0    | 0    | 3951330 | 3949775\n",
              "0    | 1    | 3957888 | 3949776\n",
              "0    | 2    | 4090862 | 3959664\n",
              "0    | 3    | 4111920 | 4007079\n",
              "0    | 4    | 4077551 | 4005716\n",
              "0    | 5    | 4064653 | 4006900\n",
              "0    | 6    | 4073013 | 4135930\n",
              "0    | 7    | 4043046 | 4155326\n",
              "0    | 8    | 4025604 | 4120903\n",
              "0    | 9    | 4125415 | 4108349\n",
              "... (296 rows omitted)"
            ]
          },
          "metadata": {
            "tags": []
          },
          "execution_count": 10
        }
      ]
    },
    {
      "cell_type": "code",
      "metadata": {
        "colab": {
          "base_uri": "https://localhost:8080/",
          "height": 173
        },
        "id": "KecQJOpFuDrU",
        "outputId": "195da061-1304-4bfd-f488-5c1f0600424e"
      },
      "source": [
        "us_pop.where(\"SEX\", are.equal_to(0)).where(\"AGE\", are.between(97,101))"
      ],
      "execution_count": 11,
      "outputs": [
        {
          "output_type": "execute_result",
          "data": {
            "text/html": [
              "<table border=\"1\" class=\"dataframe\">\n",
              "    <thead>\n",
              "        <tr>\n",
              "            <th>SEX</th> <th>AGE</th> <th>2010</th> <th>2014</th>\n",
              "        </tr>\n",
              "    </thead>\n",
              "    <tbody>\n",
              "        <tr>\n",
              "            <td>0   </td> <td>97  </td> <td>68893</td> <td>83089</td>\n",
              "        </tr>\n",
              "        <tr>\n",
              "            <td>0   </td> <td>98  </td> <td>47037</td> <td>59726</td>\n",
              "        </tr>\n",
              "        <tr>\n",
              "            <td>0   </td> <td>99  </td> <td>32178</td> <td>41468</td>\n",
              "        </tr>\n",
              "        <tr>\n",
              "            <td>0   </td> <td>100 </td> <td>54410</td> <td>71626</td>\n",
              "        </tr>\n",
              "    </tbody>\n",
              "</table>"
            ],
            "text/plain": [
              "SEX  | AGE  | 2010  | 2014\n",
              "0    | 97   | 68893 | 83089\n",
              "0    | 98   | 47037 | 59726\n",
              "0    | 99   | 32178 | 41468\n",
              "0    | 100  | 54410 | 71626"
            ]
          },
          "metadata": {
            "tags": []
          },
          "execution_count": 11
        }
      ]
    },
    {
      "cell_type": "code",
      "metadata": {
        "colab": {
          "base_uri": "https://localhost:8080/",
          "height": 142
        },
        "id": "lpmNZ7Cyudpo",
        "outputId": "e1caa70c-e826-4e96-8d6c-4df5492b14b5"
      },
      "source": [
        "# overall proportions of males and females\n",
        "\n",
        "us_pop_2014 = us_pop.drop(\"2010\")\n",
        "all_ages = us_pop_2014.where(\"AGE\", are.equal_to(999))\n",
        "all_ages"
      ],
      "execution_count": 12,
      "outputs": [
        {
          "output_type": "execute_result",
          "data": {
            "text/html": [
              "<table border=\"1\" class=\"dataframe\">\n",
              "    <thead>\n",
              "        <tr>\n",
              "            <th>SEX</th> <th>AGE</th> <th>2014</th>\n",
              "        </tr>\n",
              "    </thead>\n",
              "    <tbody>\n",
              "        <tr>\n",
              "            <td>0   </td> <td>999 </td> <td>318907401</td>\n",
              "        </tr>\n",
              "        <tr>\n",
              "            <td>1   </td> <td>999 </td> <td>156955337</td>\n",
              "        </tr>\n",
              "        <tr>\n",
              "            <td>2   </td> <td>999 </td> <td>161952064</td>\n",
              "        </tr>\n",
              "    </tbody>\n",
              "</table>"
            ],
            "text/plain": [
              "SEX  | AGE  | 2014\n",
              "0    | 999  | 318907401\n",
              "1    | 999  | 156955337\n",
              "2    | 999  | 161952064"
            ]
          },
          "metadata": {
            "tags": []
          },
          "execution_count": 12
        }
      ]
    },
    {
      "cell_type": "code",
      "metadata": {
        "colab": {
          "base_uri": "https://localhost:8080/",
          "height": 142
        },
        "id": "ktOtV8YAu56c",
        "outputId": "b84d0e4d-0c63-4209-f377-cd311f40d379"
      },
      "source": [
        "pop_2014 = all_ages.column(\"2014\").item(0)\n",
        "all_ages.with_column(\n",
        "    \"Proportion\", all_ages.column(\"2014\")/pop_2014\n",
        ").set_format(\"Proportion\", PercentFormatter)"
      ],
      "execution_count": 13,
      "outputs": [
        {
          "output_type": "execute_result",
          "data": {
            "text/html": [
              "<table border=\"1\" class=\"dataframe\">\n",
              "    <thead>\n",
              "        <tr>\n",
              "            <th>SEX</th> <th>AGE</th> <th>2014</th> <th>Proportion</th>\n",
              "        </tr>\n",
              "    </thead>\n",
              "    <tbody>\n",
              "        <tr>\n",
              "            <td>0   </td> <td>999 </td> <td>318907401</td> <td>100.00%   </td>\n",
              "        </tr>\n",
              "        <tr>\n",
              "            <td>1   </td> <td>999 </td> <td>156955337</td> <td>49.22%    </td>\n",
              "        </tr>\n",
              "        <tr>\n",
              "            <td>2   </td> <td>999 </td> <td>161952064</td> <td>50.78%    </td>\n",
              "        </tr>\n",
              "    </tbody>\n",
              "</table>"
            ],
            "text/plain": [
              "SEX  | AGE  | 2014      | Proportion\n",
              "0    | 999  | 318907401 | 100.00%\n",
              "1    | 999  | 156955337 | 49.22%\n",
              "2    | 999  | 161952064 | 50.78%"
            ]
          },
          "metadata": {
            "tags": []
          },
          "execution_count": 13
        }
      ]
    },
    {
      "cell_type": "code",
      "metadata": {
        "colab": {
          "base_uri": "https://localhost:8080/",
          "height": 142
        },
        "id": "4c2I7-ozvWz4",
        "outputId": "148610b7-0728-4a3c-ce79-3d1841b684c0"
      },
      "source": [
        "# proportions of boys and girls among infants\n",
        "\n",
        "infants = us_pop_2014.where(\"AGE\", are.equal_to(0))\n",
        "infants"
      ],
      "execution_count": 17,
      "outputs": [
        {
          "output_type": "execute_result",
          "data": {
            "text/html": [
              "<table border=\"1\" class=\"dataframe\">\n",
              "    <thead>\n",
              "        <tr>\n",
              "            <th>SEX</th> <th>AGE</th> <th>2014</th>\n",
              "        </tr>\n",
              "    </thead>\n",
              "    <tbody>\n",
              "        <tr>\n",
              "            <td>0   </td> <td>0   </td> <td>3949775</td>\n",
              "        </tr>\n",
              "        <tr>\n",
              "            <td>1   </td> <td>0   </td> <td>2020326</td>\n",
              "        </tr>\n",
              "        <tr>\n",
              "            <td>2   </td> <td>0   </td> <td>1929449</td>\n",
              "        </tr>\n",
              "    </tbody>\n",
              "</table>"
            ],
            "text/plain": [
              "SEX  | AGE  | 2014\n",
              "0    | 0    | 3949775\n",
              "1    | 0    | 2020326\n",
              "2    | 0    | 1929449"
            ]
          },
          "metadata": {
            "tags": []
          },
          "execution_count": 17
        }
      ]
    },
    {
      "cell_type": "code",
      "metadata": {
        "colab": {
          "base_uri": "https://localhost:8080/",
          "height": 142
        },
        "id": "TZALA9AjvsM1",
        "outputId": "61d1df15-7a7e-478f-eeee-51159648923c"
      },
      "source": [
        "infants_2014 = infants.column(\"2014\").item(0)\n",
        "infants.with_column(\n",
        "    \"Proportion\", infants.column(\"2014\")/infants_2014\n",
        ").set_format(\"Proportion\", PercentFormatter)"
      ],
      "execution_count": 18,
      "outputs": [
        {
          "output_type": "execute_result",
          "data": {
            "text/html": [
              "<table border=\"1\" class=\"dataframe\">\n",
              "    <thead>\n",
              "        <tr>\n",
              "            <th>SEX</th> <th>AGE</th> <th>2014</th> <th>Proportion</th>\n",
              "        </tr>\n",
              "    </thead>\n",
              "    <tbody>\n",
              "        <tr>\n",
              "            <td>0   </td> <td>0   </td> <td>3949775</td> <td>100.00%   </td>\n",
              "        </tr>\n",
              "        <tr>\n",
              "            <td>1   </td> <td>0   </td> <td>2020326</td> <td>51.15%    </td>\n",
              "        </tr>\n",
              "        <tr>\n",
              "            <td>2   </td> <td>0   </td> <td>1929449</td> <td>48.85%    </td>\n",
              "        </tr>\n",
              "    </tbody>\n",
              "</table>"
            ],
            "text/plain": [
              "SEX  | AGE  | 2014    | Proportion\n",
              "0    | 0    | 3949775 | 100.00%\n",
              "1    | 0    | 2020326 | 51.15%\n",
              "2    | 0    | 1929449 | 48.85%"
            ]
          },
          "metadata": {
            "tags": []
          },
          "execution_count": 18
        }
      ]
    },
    {
      "cell_type": "code",
      "metadata": {
        "colab": {
          "base_uri": "https://localhost:8080/",
          "height": 388
        },
        "id": "Ehnx5RXHwHL0",
        "outputId": "bd1b91f1-9003-4804-b20f-15bf5e312bf6"
      },
      "source": [
        "# female to male gender ratiol at each age\n",
        "\n",
        "females_all_rows = us_pop_2014.where(\"SEX\",are.equal_to(2))\n",
        "females = females_all_rows.where(\"AGE\", are.not_equal_to(999))\n",
        "females"
      ],
      "execution_count": 19,
      "outputs": [
        {
          "output_type": "execute_result",
          "data": {
            "text/html": [
              "<table border=\"1\" class=\"dataframe\">\n",
              "    <thead>\n",
              "        <tr>\n",
              "            <th>SEX</th> <th>AGE</th> <th>2014</th>\n",
              "        </tr>\n",
              "    </thead>\n",
              "    <tbody>\n",
              "        <tr>\n",
              "            <td>2   </td> <td>0   </td> <td>1929449</td>\n",
              "        </tr>\n",
              "        <tr>\n",
              "            <td>2   </td> <td>1   </td> <td>1931375</td>\n",
              "        </tr>\n",
              "        <tr>\n",
              "            <td>2   </td> <td>2   </td> <td>1935991</td>\n",
              "        </tr>\n",
              "        <tr>\n",
              "            <td>2   </td> <td>3   </td> <td>1957483</td>\n",
              "        </tr>\n",
              "        <tr>\n",
              "            <td>2   </td> <td>4   </td> <td>1961199</td>\n",
              "        </tr>\n",
              "        <tr>\n",
              "            <td>2   </td> <td>5   </td> <td>1962561</td>\n",
              "        </tr>\n",
              "        <tr>\n",
              "            <td>2   </td> <td>6   </td> <td>2024870</td>\n",
              "        </tr>\n",
              "        <tr>\n",
              "            <td>2   </td> <td>7   </td> <td>2032494</td>\n",
              "        </tr>\n",
              "        <tr>\n",
              "            <td>2   </td> <td>8   </td> <td>2015285</td>\n",
              "        </tr>\n",
              "        <tr>\n",
              "            <td>2   </td> <td>9   </td> <td>2010659</td>\n",
              "        </tr>\n",
              "    </tbody>\n",
              "</table>\n",
              "<p>... (91 rows omitted)</p>"
            ],
            "text/plain": [
              "SEX  | AGE  | 2014\n",
              "2    | 0    | 1929449\n",
              "2    | 1    | 1931375\n",
              "2    | 2    | 1935991\n",
              "2    | 3    | 1957483\n",
              "2    | 4    | 1961199\n",
              "2    | 5    | 1962561\n",
              "2    | 6    | 2024870\n",
              "2    | 7    | 2032494\n",
              "2    | 8    | 2015285\n",
              "2    | 9    | 2010659\n",
              "... (91 rows omitted)"
            ]
          },
          "metadata": {
            "tags": []
          },
          "execution_count": 19
        }
      ]
    },
    {
      "cell_type": "code",
      "metadata": {
        "colab": {
          "base_uri": "https://localhost:8080/",
          "height": 388
        },
        "id": "KbrqglaJwmLC",
        "outputId": "c663c8f6-acf8-4232-ff6a-20910c8542b2"
      },
      "source": [
        "males_all_rows = us_pop_2014.where(\"SEX\",are.equal_to(1))\n",
        "males = males_all_rows.where(\"AGE\",are.not_equal_to(999))\n",
        "males"
      ],
      "execution_count": 20,
      "outputs": [
        {
          "output_type": "execute_result",
          "data": {
            "text/html": [
              "<table border=\"1\" class=\"dataframe\">\n",
              "    <thead>\n",
              "        <tr>\n",
              "            <th>SEX</th> <th>AGE</th> <th>2014</th>\n",
              "        </tr>\n",
              "    </thead>\n",
              "    <tbody>\n",
              "        <tr>\n",
              "            <td>1   </td> <td>0   </td> <td>2020326</td>\n",
              "        </tr>\n",
              "        <tr>\n",
              "            <td>1   </td> <td>1   </td> <td>2018401</td>\n",
              "        </tr>\n",
              "        <tr>\n",
              "            <td>1   </td> <td>2   </td> <td>2023673</td>\n",
              "        </tr>\n",
              "        <tr>\n",
              "            <td>1   </td> <td>3   </td> <td>2049596</td>\n",
              "        </tr>\n",
              "        <tr>\n",
              "            <td>1   </td> <td>4   </td> <td>2044517</td>\n",
              "        </tr>\n",
              "        <tr>\n",
              "            <td>1   </td> <td>5   </td> <td>2044339</td>\n",
              "        </tr>\n",
              "        <tr>\n",
              "            <td>1   </td> <td>6   </td> <td>2111060</td>\n",
              "        </tr>\n",
              "        <tr>\n",
              "            <td>1   </td> <td>7   </td> <td>2122832</td>\n",
              "        </tr>\n",
              "        <tr>\n",
              "            <td>1   </td> <td>8   </td> <td>2105618</td>\n",
              "        </tr>\n",
              "        <tr>\n",
              "            <td>1   </td> <td>9   </td> <td>2097690</td>\n",
              "        </tr>\n",
              "    </tbody>\n",
              "</table>\n",
              "<p>... (91 rows omitted)</p>"
            ],
            "text/plain": [
              "SEX  | AGE  | 2014\n",
              "1    | 0    | 2020326\n",
              "1    | 1    | 2018401\n",
              "1    | 2    | 2023673\n",
              "1    | 3    | 2049596\n",
              "1    | 4    | 2044517\n",
              "1    | 5    | 2044339\n",
              "1    | 6    | 2111060\n",
              "1    | 7    | 2122832\n",
              "1    | 8    | 2105618\n",
              "1    | 9    | 2097690\n",
              "... (91 rows omitted)"
            ]
          },
          "metadata": {
            "tags": []
          },
          "execution_count": 20
        }
      ]
    },
    {
      "cell_type": "code",
      "metadata": {
        "colab": {
          "base_uri": "https://localhost:8080/"
        },
        "id": "ATOxZDY2wzhK",
        "outputId": "5ed24488-42cf-4257-fbb5-bf6a48903827"
      },
      "source": [
        "males.column(\"AGE\")"
      ],
      "execution_count": 21,
      "outputs": [
        {
          "output_type": "execute_result",
          "data": {
            "text/plain": [
              "array([  0,   1,   2,   3,   4,   5,   6,   7,   8,   9,  10,  11,  12,\n",
              "        13,  14,  15,  16,  17,  18,  19,  20,  21,  22,  23,  24,  25,\n",
              "        26,  27,  28,  29,  30,  31,  32,  33,  34,  35,  36,  37,  38,\n",
              "        39,  40,  41,  42,  43,  44,  45,  46,  47,  48,  49,  50,  51,\n",
              "        52,  53,  54,  55,  56,  57,  58,  59,  60,  61,  62,  63,  64,\n",
              "        65,  66,  67,  68,  69,  70,  71,  72,  73,  74,  75,  76,  77,\n",
              "        78,  79,  80,  81,  82,  83,  84,  85,  86,  87,  88,  89,  90,\n",
              "        91,  92,  93,  94,  95,  96,  97,  98,  99, 100])"
            ]
          },
          "metadata": {
            "tags": []
          },
          "execution_count": 21
        }
      ]
    },
    {
      "cell_type": "code",
      "metadata": {
        "colab": {
          "base_uri": "https://localhost:8080/"
        },
        "id": "npG0Uoazw61h",
        "outputId": "b2c57f87-98ac-4ff8-9e47-43f9d7b26176"
      },
      "source": [
        "females.column(\"AGE\")"
      ],
      "execution_count": 22,
      "outputs": [
        {
          "output_type": "execute_result",
          "data": {
            "text/plain": [
              "array([  0,   1,   2,   3,   4,   5,   6,   7,   8,   9,  10,  11,  12,\n",
              "        13,  14,  15,  16,  17,  18,  19,  20,  21,  22,  23,  24,  25,\n",
              "        26,  27,  28,  29,  30,  31,  32,  33,  34,  35,  36,  37,  38,\n",
              "        39,  40,  41,  42,  43,  44,  45,  46,  47,  48,  49,  50,  51,\n",
              "        52,  53,  54,  55,  56,  57,  58,  59,  60,  61,  62,  63,  64,\n",
              "        65,  66,  67,  68,  69,  70,  71,  72,  73,  74,  75,  76,  77,\n",
              "        78,  79,  80,  81,  82,  83,  84,  85,  86,  87,  88,  89,  90,\n",
              "        91,  92,  93,  94,  95,  96,  97,  98,  99, 100])"
            ]
          },
          "metadata": {
            "tags": []
          },
          "execution_count": 22
        }
      ]
    },
    {
      "cell_type": "code",
      "metadata": {
        "colab": {
          "base_uri": "https://localhost:8080/",
          "height": 388
        },
        "id": "WIQz3Satw8v-",
        "outputId": "affdff52-6e2b-4839-aa0c-41872ee6f72b"
      },
      "source": [
        "ratios = Table().with_columns(\n",
        "    \"AGE\", females.column(\"AGE\"),\n",
        "    \"2014 F:M RATIO\", females.column(\"2014\")/males.column(\"2014\")\n",
        ")\n",
        "ratios"
      ],
      "execution_count": 24,
      "outputs": [
        {
          "output_type": "execute_result",
          "data": {
            "text/html": [
              "<table border=\"1\" class=\"dataframe\">\n",
              "    <thead>\n",
              "        <tr>\n",
              "            <th>AGE</th> <th>2014 F:M RATIO</th>\n",
              "        </tr>\n",
              "    </thead>\n",
              "    <tbody>\n",
              "        <tr>\n",
              "            <td>0   </td> <td>0.955019      </td>\n",
              "        </tr>\n",
              "        <tr>\n",
              "            <td>1   </td> <td>0.956884      </td>\n",
              "        </tr>\n",
              "        <tr>\n",
              "            <td>2   </td> <td>0.956672      </td>\n",
              "        </tr>\n",
              "        <tr>\n",
              "            <td>3   </td> <td>0.955058      </td>\n",
              "        </tr>\n",
              "        <tr>\n",
              "            <td>4   </td> <td>0.959248      </td>\n",
              "        </tr>\n",
              "        <tr>\n",
              "            <td>5   </td> <td>0.959998      </td>\n",
              "        </tr>\n",
              "        <tr>\n",
              "            <td>6   </td> <td>0.959172      </td>\n",
              "        </tr>\n",
              "        <tr>\n",
              "            <td>7   </td> <td>0.957445      </td>\n",
              "        </tr>\n",
              "        <tr>\n",
              "            <td>8   </td> <td>0.957099      </td>\n",
              "        </tr>\n",
              "        <tr>\n",
              "            <td>9   </td> <td>0.958511      </td>\n",
              "        </tr>\n",
              "    </tbody>\n",
              "</table>\n",
              "<p>... (91 rows omitted)</p>"
            ],
            "text/plain": [
              "AGE  | 2014 F:M RATIO\n",
              "0    | 0.955019\n",
              "1    | 0.956884\n",
              "2    | 0.956672\n",
              "3    | 0.955058\n",
              "4    | 0.959248\n",
              "5    | 0.959998\n",
              "6    | 0.959172\n",
              "7    | 0.957445\n",
              "8    | 0.957099\n",
              "9    | 0.958511\n",
              "... (91 rows omitted)"
            ]
          },
          "metadata": {
            "tags": []
          },
          "execution_count": 24
        }
      ]
    },
    {
      "cell_type": "code",
      "metadata": {
        "colab": {
          "base_uri": "https://localhost:8080/",
          "height": 388
        },
        "id": "Zg9JDTyjxPFD",
        "outputId": "bc0eccf7-1202-4b07-e8d1-c2537b0fe1c4"
      },
      "source": [
        "ratios.sort(\"AGE\", descending=True)"
      ],
      "execution_count": 28,
      "outputs": [
        {
          "output_type": "execute_result",
          "data": {
            "text/html": [
              "<table border=\"1\" class=\"dataframe\">\n",
              "    <thead>\n",
              "        <tr>\n",
              "            <th>AGE</th> <th>2014 F:M RATIO</th>\n",
              "        </tr>\n",
              "    </thead>\n",
              "    <tbody>\n",
              "        <tr>\n",
              "            <td>100 </td> <td>4.25966       </td>\n",
              "        </tr>\n",
              "        <tr>\n",
              "            <td>99  </td> <td>3.63278       </td>\n",
              "        </tr>\n",
              "        <tr>\n",
              "            <td>98  </td> <td>3.41826       </td>\n",
              "        </tr>\n",
              "        <tr>\n",
              "            <td>97  </td> <td>3.09104       </td>\n",
              "        </tr>\n",
              "        <tr>\n",
              "            <td>96  </td> <td>2.87998       </td>\n",
              "        </tr>\n",
              "        <tr>\n",
              "            <td>95  </td> <td>2.67253       </td>\n",
              "        </tr>\n",
              "        <tr>\n",
              "            <td>94  </td> <td>2.52285       </td>\n",
              "        </tr>\n",
              "        <tr>\n",
              "            <td>93  </td> <td>2.33359       </td>\n",
              "        </tr>\n",
              "        <tr>\n",
              "            <td>92  </td> <td>2.2299        </td>\n",
              "        </tr>\n",
              "        <tr>\n",
              "            <td>91  </td> <td>2.09488       </td>\n",
              "        </tr>\n",
              "    </tbody>\n",
              "</table>\n",
              "<p>... (91 rows omitted)</p>"
            ],
            "text/plain": [
              "AGE  | 2014 F:M RATIO\n",
              "100  | 4.25966\n",
              "99   | 3.63278\n",
              "98   | 3.41826\n",
              "97   | 3.09104\n",
              "96   | 2.87998\n",
              "95   | 2.67253\n",
              "94   | 2.52285\n",
              "93   | 2.33359\n",
              "92   | 2.2299\n",
              "91   | 2.09488\n",
              "... (91 rows omitted)"
            ]
          },
          "metadata": {
            "tags": []
          },
          "execution_count": 28
        }
      ]
    },
    {
      "cell_type": "code",
      "metadata": {
        "colab": {
          "base_uri": "https://localhost:8080/",
          "height": 824
        },
        "id": "vnZfjwS4xghF",
        "outputId": "86693299-381e-43d8-9f00-b694d797c6e4"
      },
      "source": [
        "ratios.where(\"AGE\", are.above(75)).show()"
      ],
      "execution_count": 29,
      "outputs": [
        {
          "output_type": "display_data",
          "data": {
            "text/html": [
              "<table border=\"1\" class=\"dataframe\">\n",
              "    <thead>\n",
              "        <tr>\n",
              "            <th>AGE</th> <th>2014 F:M RATIO</th>\n",
              "        </tr>\n",
              "    </thead>\n",
              "    <tbody>\n",
              "        <tr>\n",
              "            <td>76  </td> <td>1.23487       </td>\n",
              "        </tr>\n",
              "        <tr>\n",
              "            <td>77  </td> <td>1.25797       </td>\n",
              "        </tr>\n",
              "        <tr>\n",
              "            <td>78  </td> <td>1.28244       </td>\n",
              "        </tr>\n",
              "        <tr>\n",
              "            <td>79  </td> <td>1.31627       </td>\n",
              "        </tr>\n",
              "        <tr>\n",
              "            <td>80  </td> <td>1.34138       </td>\n",
              "        </tr>\n",
              "        <tr>\n",
              "            <td>81  </td> <td>1.37967       </td>\n",
              "        </tr>\n",
              "        <tr>\n",
              "            <td>82  </td> <td>1.41932       </td>\n",
              "        </tr>\n",
              "        <tr>\n",
              "            <td>83  </td> <td>1.46552       </td>\n",
              "        </tr>\n",
              "        <tr>\n",
              "            <td>84  </td> <td>1.52048       </td>\n",
              "        </tr>\n",
              "        <tr>\n",
              "            <td>85  </td> <td>1.5756        </td>\n",
              "        </tr>\n",
              "        <tr>\n",
              "            <td>86  </td> <td>1.65096       </td>\n",
              "        </tr>\n",
              "        <tr>\n",
              "            <td>87  </td> <td>1.72172       </td>\n",
              "        </tr>\n",
              "        <tr>\n",
              "            <td>88  </td> <td>1.81223       </td>\n",
              "        </tr>\n",
              "        <tr>\n",
              "            <td>89  </td> <td>1.91837       </td>\n",
              "        </tr>\n",
              "        <tr>\n",
              "            <td>90  </td> <td>2.01263       </td>\n",
              "        </tr>\n",
              "        <tr>\n",
              "            <td>91  </td> <td>2.09488       </td>\n",
              "        </tr>\n",
              "        <tr>\n",
              "            <td>92  </td> <td>2.2299        </td>\n",
              "        </tr>\n",
              "        <tr>\n",
              "            <td>93  </td> <td>2.33359       </td>\n",
              "        </tr>\n",
              "        <tr>\n",
              "            <td>94  </td> <td>2.52285       </td>\n",
              "        </tr>\n",
              "        <tr>\n",
              "            <td>95  </td> <td>2.67253       </td>\n",
              "        </tr>\n",
              "        <tr>\n",
              "            <td>96  </td> <td>2.87998       </td>\n",
              "        </tr>\n",
              "        <tr>\n",
              "            <td>97  </td> <td>3.09104       </td>\n",
              "        </tr>\n",
              "        <tr>\n",
              "            <td>98  </td> <td>3.41826       </td>\n",
              "        </tr>\n",
              "        <tr>\n",
              "            <td>99  </td> <td>3.63278       </td>\n",
              "        </tr>\n",
              "        <tr>\n",
              "            <td>100 </td> <td>4.25966       </td>\n",
              "        </tr>\n",
              "    </tbody>\n",
              "</table>"
            ],
            "text/plain": [
              "<IPython.core.display.HTML object>"
            ]
          },
          "metadata": {
            "tags": []
          }
        }
      ]
    },
    {
      "cell_type": "code",
      "metadata": {
        "colab": {
          "base_uri": "https://localhost:8080/",
          "height": 111
        },
        "id": "kCMACDOixwEZ",
        "outputId": "c6126bac-69a5-4370-e6a1-0f1072a4352d"
      },
      "source": [
        "males.where(\"AGE\", are.between(98,100))"
      ],
      "execution_count": 30,
      "outputs": [
        {
          "output_type": "execute_result",
          "data": {
            "text/html": [
              "<table border=\"1\" class=\"dataframe\">\n",
              "    <thead>\n",
              "        <tr>\n",
              "            <th>SEX</th> <th>AGE</th> <th>2014</th>\n",
              "        </tr>\n",
              "    </thead>\n",
              "    <tbody>\n",
              "        <tr>\n",
              "            <td>1   </td> <td>98  </td> <td>13518</td>\n",
              "        </tr>\n",
              "        <tr>\n",
              "            <td>1   </td> <td>99  </td> <td>8951 </td>\n",
              "        </tr>\n",
              "    </tbody>\n",
              "</table>"
            ],
            "text/plain": [
              "SEX  | AGE  | 2014\n",
              "1    | 98   | 13518\n",
              "1    | 99   | 8951"
            ]
          },
          "metadata": {
            "tags": []
          },
          "execution_count": 30
        }
      ]
    },
    {
      "cell_type": "code",
      "metadata": {
        "colab": {
          "base_uri": "https://localhost:8080/",
          "height": 111
        },
        "id": "lyxA-48Rx77y",
        "outputId": "7f5769b0-ac45-4bed-b6c6-7726b1123b8f"
      },
      "source": [
        "females.where(\"AGE\", are.between(98,100))"
      ],
      "execution_count": 31,
      "outputs": [
        {
          "output_type": "execute_result",
          "data": {
            "text/html": [
              "<table border=\"1\" class=\"dataframe\">\n",
              "    <thead>\n",
              "        <tr>\n",
              "            <th>SEX</th> <th>AGE</th> <th>2014</th>\n",
              "        </tr>\n",
              "    </thead>\n",
              "    <tbody>\n",
              "        <tr>\n",
              "            <td>2   </td> <td>98  </td> <td>46208</td>\n",
              "        </tr>\n",
              "        <tr>\n",
              "            <td>2   </td> <td>99  </td> <td>32517</td>\n",
              "        </tr>\n",
              "    </tbody>\n",
              "</table>"
            ],
            "text/plain": [
              "SEX  | AGE  | 2014\n",
              "2    | 98   | 46208\n",
              "2    | 99   | 32517"
            ]
          },
          "metadata": {
            "tags": []
          },
          "execution_count": 31
        }
      ]
    },
    {
      "cell_type": "code",
      "metadata": {
        "colab": {
          "base_uri": "https://localhost:8080/",
          "height": 284
        },
        "id": "QnaJ7JxcyBLB",
        "outputId": "364e7ed2-ffdf-47b4-bbbb-c032482665aa"
      },
      "source": [
        "ratios.plot(\"AGE\")"
      ],
      "execution_count": 32,
      "outputs": [
        {
          "output_type": "display_data",
          "data": {
            "image/png": "[encoded data removed]",
            "text/plain": [
              "<Figure size 432x288 with 1 Axes>"
            ]
          },
          "metadata": {
            "tags": [],
            "needs_background": "light"
          }
        }
      ]
    }
  ]
}