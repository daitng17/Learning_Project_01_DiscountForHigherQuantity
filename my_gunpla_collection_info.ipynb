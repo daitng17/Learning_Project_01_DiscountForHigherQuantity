{
  "nbformat": 4,
  "nbformat_minor": 0,
  "metadata": {
    "colab": {
      "name": "my_gunpla_collection_info.ipynb",
      "provenance": [],
      "collapsed_sections": [],
      "authorship_tag": "ABX9TyNbWUJdZaYmRXFkrJ0xa0R7",
      "include_colab_link": true
    },
    "kernelspec": {
      "name": "python3",
      "display_name": "Python 3"
    }
  },
  "cells": [
    {
      "cell_type": "markdown",
      "metadata": {
        "id": "view-in-github",
        "colab_type": "text"
      },
      "source": [
        "<a href=\"https://colab.research.google.com/github/thanhdtnguyen/Python-3-Programming/blob/master/my_gunpla_collection_info.ipynb\" target=\"_parent\"><img src=\"https://colab.research.google.com/assets/colab-badge.svg\" alt=\"Open In Colab\"/></a>"
      ]
    },
    {
      "cell_type": "code",
      "metadata": {
        "id": "BKv8C_tmBF-y"
      },
      "source": [
        "### a simple python program to manage my gunpla collection\n",
        "### for personal use\n",
        "\n",
        "## Author: Nguyen Dai Truong Thanh\n",
        "## Contact: thanh.dtng@gmail.com"
      ],
      "execution_count": null,
      "outputs": []
    },
    {
      "cell_type": "code",
      "metadata": {
        "id": "o5Ozyxri5xaq"
      },
      "source": [
        "my_gunpla = [] # initiate a list of my gunpla\n",
        "\n",
        "def enter_info():\n",
        "  \"\"\"A function to enter information of a gunpla\"\"\"\n",
        "\n",
        "  while True:\n",
        "    print(\"Enter the name of gunpla:\")\n",
        "    name = input()\n",
        "    print(\"Enter the grade of gunpla:\")\n",
        "    grade = input()\n",
        "    print(\"Enter the price of gunpla:\")\n",
        "    price = input()\n",
        "    \n",
        "    my_gunpla.append([name, grade, price])\n",
        "\n",
        "    print(\"Continue(y/n):\")\n",
        "    Continue = input()\n",
        "    if Continue != \"y\" and \"Y\":\n",
        "      print(\"--- Finish entering information ---\")\n",
        "      break\n",
        "\n",
        "def get_info(my_gunpla):\n",
        "  \"\"\"A function to get the entered information\"\"\"\n",
        "\n",
        "  print(\"The Information of My Gunpla Collection\")\n",
        "  print(\"_______________________________________\")\n",
        "  for gunpla in my_gunpla:\n",
        "    print(\"No. \" + str(my_gunpla.index(gunpla) + 1))\n",
        "    print(gunpla)"
      ],
      "execution_count": null,
      "outputs": []
    },
    {
      "cell_type": "code",
      "metadata": {
        "colab": {
          "base_uri": "https://localhost:8080/"
        },
        "id": "-mK4sL166WLi",
        "outputId": "495a60e9-8726-4f88-afe6-7f5004dc2411"
      },
      "source": [
        "enter_info()"
      ],
      "execution_count": null,
      "outputs": [
        {
          "output_type": "stream",
          "text": [
            "Enter the name of gunpla:\n",
            "Unicorn Gundam\n",
            "Enter the grade of gunpla:\n",
            "RG\n",
            "Enter the price of gunpla:\n",
            "3000\n",
            "Continue(y/n):\n",
            "y\n",
            "Enter the name of gunpla:\n",
            "Wing Gundam EW\n",
            "Enter the grade of gunpla:\n",
            "MG\n",
            "Enter the price of gunpla:\n",
            "3200\n",
            "Continue(y/n):\n",
            "y\n",
            "Enter the name of gunpla:\n",
            "Jesta \n",
            "Enter the grade of gunpla:\n",
            "HG\n",
            "Enter the price of gunpla:\n",
            "1500\n",
            "Continue(y/n):\n",
            "n\n",
            "--- Finish entering information ---\n"
          ],
          "name": "stdout"
        }
      ]
    },
    {
      "cell_type": "code",
      "metadata": {
        "colab": {
          "base_uri": "https://localhost:8080/"
        },
        "id": "t8gQ0ZOj9iPb",
        "outputId": "8cb1e04d-6394-45f0-8a01-0cac5a8c35b8"
      },
      "source": [
        "get_info(my_gunpla)"
      ],
      "execution_count": null,
      "outputs": [
        {
          "output_type": "stream",
          "text": [
            "The Information of My Gunpla Collection\n",
            "_______________________________________\n",
            "No. 1\n",
            "['Unicorn Gundam', 'RG', '3000']\n",
            "No. 2\n",
            "['Wing Gundam EW', 'MG', '3200']\n",
            "No. 3\n",
            "['Jesta ', 'HG', '1500']\n"
          ],
          "name": "stdout"
        }
      ]
    },
    {
      "cell_type": "code",
      "metadata": {
        "colab": {
          "base_uri": "https://localhost:8080/"
        },
        "id": "yeXgdxQ79lje",
        "outputId": "85c4c0ac-b0e7-45e9-e6db-473f29d1304d"
      },
      "source": [
        "enter_info()"
      ],
      "execution_count": null,
      "outputs": [
        {
          "output_type": "stream",
          "text": [
            "Enter the name of gunpla:\n",
            "Zaku\n",
            "Enter the grade of gunpla:\n",
            "NA\n",
            "Enter the price of gunpla:\n",
            "400\n",
            "Continue(y/n):\n",
            "n\n",
            "--- Finish entering information ---\n"
          ],
          "name": "stdout"
        }
      ]
    },
    {
      "cell_type": "code",
      "metadata": {
        "colab": {
          "base_uri": "https://localhost:8080/"
        },
        "id": "0eNs5mmk9s0K",
        "outputId": "cbb28a06-69d1-41a1-cf4b-c3455bc9dce3"
      },
      "source": [
        "get_info(my_gunpla)"
      ],
      "execution_count": null,
      "outputs": [
        {
          "output_type": "stream",
          "text": [
            "The Information of My Gunpla Collection\n",
            "_______________________________________\n",
            "No. 1\n",
            "['Unicorn Gundam', 'RG', '3000']\n",
            "No. 2\n",
            "['Wing Gundam EW', 'MG', '3200']\n",
            "No. 3\n",
            "['Jesta ', 'HG', '1500']\n",
            "No. 4\n",
            "['Zaku', 'NA', '400']\n"
          ],
          "name": "stdout"
        }
      ]
    }
  ]
}