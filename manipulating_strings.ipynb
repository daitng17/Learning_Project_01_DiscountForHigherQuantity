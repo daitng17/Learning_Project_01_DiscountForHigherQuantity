{
  "nbformat": 4,
  "nbformat_minor": 0,
  "metadata": {
    "colab": {
      "name": "manipulating_strings.ipynb",
      "provenance": [],
      "authorship_tag": "ABX9TyPBzE5YIKeY73gYUadfPpJK",
      "include_colab_link": true
    },
    "kernelspec": {
      "name": "python3",
      "display_name": "Python 3"
    }
  },
  "cells": [
    {
      "cell_type": "markdown",
      "metadata": {
        "id": "view-in-github",
        "colab_type": "text"
      },
      "source": [
        "<a href=\"https://colab.research.google.com/github/thanhdtnguyen/Python-3-Programming/blob/master/manipulating_strings.ipynb\" target=\"_parent\"><img src=\"https://colab.research.google.com/assets/colab-badge.svg\" alt=\"Open In Colab\"/></a>"
      ]
    },
    {
      "cell_type": "code",
      "metadata": {
        "colab": {
          "base_uri": "https://localhost:8080/"
        },
        "id": "In7cbmYx5EkE",
        "outputId": "b83b46cc-6f4e-4960-8c5a-640ea38adb72"
      },
      "source": [
        "# escape characters \n",
        "\n",
        "print(\"a\\'b\")\n",
        "print(\"a\\tb\")\n",
        "print(\"a\\nb\")\n",
        "print(\"a\\\\b\")"
      ],
      "execution_count": null,
      "outputs": [
        {
          "output_type": "stream",
          "text": [
            "a'b\n",
            "a\tb\n",
            "a\n",
            "b\n",
            "a\\b\n"
          ],
          "name": "stdout"
        }
      ]
    },
    {
      "cell_type": "code",
      "metadata": {
        "colab": {
          "base_uri": "https://localhost:8080/"
        },
        "id": "hVtRskW16tHu",
        "outputId": "a4e00ed0-be01-4f2b-fc8f-098f6406dbd3"
      },
      "source": [
        "# raw string ignores escape characters\n",
        "\n",
        "print(r\"C:\\User\\Thanh\\Destop\")"
      ],
      "execution_count": null,
      "outputs": [
        {
          "output_type": "stream",
          "text": [
            "C:\\User\\Thanh\\Destop\n"
          ],
          "name": "stdout"
        }
      ]
    },
    {
      "cell_type": "code",
      "metadata": {
        "colab": {
          "base_uri": "https://localhost:8080/"
        },
        "id": "NoPVGPzN7aOU",
        "outputId": "28352992-025e-43fd-fedd-b13397d34a49"
      },
      "source": [
        "# triple quotes\n",
        "\n",
        "print(\"\"\"Dear Alice,\n",
        "\n",
        "Eve's cat has been arrested for catnapping, burglary, and extortion.\n",
        "\n",
        "Sincerely,\n",
        "Bob\"\"\")"
      ],
      "execution_count": null,
      "outputs": [
        {
          "output_type": "stream",
          "text": [
            "Dear Alice,\n",
            "\n",
            "Eve's cat has been arrested for catnapping, burglary, and extortion.\n",
            "\n",
            "Sincerely,\n",
            "Bob\n"
          ],
          "name": "stdout"
        }
      ]
    },
    {
      "cell_type": "code",
      "metadata": {
        "colab": {
          "base_uri": "https://localhost:8080/"
        },
        "id": "WL9Ol_dx8V_L",
        "outputId": "17337994-39ad-48ff-b25b-5b7a3725efbd"
      },
      "source": [
        "# multiline comments \n",
        "\n",
        "def spam():\n",
        "  \"\"\"This is a multiline comment to help\n",
        "  explain what the spam() function does.\"\"\"\n",
        "  print(\"Great work!\")\n",
        "\n",
        "spam()"
      ],
      "execution_count": null,
      "outputs": [
        {
          "output_type": "stream",
          "text": [
            "Great work!\n"
          ],
          "name": "stdout"
        }
      ]
    },
    {
      "cell_type": "code",
      "metadata": {
        "colab": {
          "base_uri": "https://localhost:8080/"
        },
        "id": "2TUaEbZw80QH",
        "outputId": "f7c0182d-b645-4959-cbc8-cb138e492c30"
      },
      "source": [
        "job = \"data engineer\"\n",
        "x = job[0:4]\n",
        "print(x)"
      ],
      "execution_count": null,
      "outputs": [
        {
          "output_type": "stream",
          "text": [
            "data\n"
          ],
          "name": "stdout"
        }
      ]
    },
    {
      "cell_type": "code",
      "metadata": {
        "colab": {
          "base_uri": "https://localhost:8080/"
        },
        "id": "Ku4QWOJ49bQC",
        "outputId": "27043309-2b86-4281-88c1-2b5dcc1f1e84"
      },
      "source": [
        "# f-strings / string interpolation\n",
        "\n",
        "name = \"Thanh\"\n",
        "age = 21\n",
        "\n",
        "print(f\"My name is {name}. I'm {age} years old. Next year, I'll be {age + 1}.\")"
      ],
      "execution_count": null,
      "outputs": [
        {
          "output_type": "stream",
          "text": [
            "My name is Thanh. I'm 21 years old. Next year, I'll be 22.\n"
          ],
          "name": "stdout"
        }
      ]
    },
    {
      "cell_type": "code",
      "metadata": {
        "colab": {
          "base_uri": "https://localhost:8080/"
        },
        "id": "YOQOxaL--hoa",
        "outputId": "b2b929e0-85d3-4e00-9218-6f0e55136cfd"
      },
      "source": [
        "# string methods\n",
        "\n",
        "print(\"How are you?\")\n",
        "feeling = input()\n",
        "if feeling.lower() == \"great\":\n",
        "  print(\"I feel great too.\")\n",
        "else:\n",
        "  print(\"I hope the rest of your day is good.\")"
      ],
      "execution_count": null,
      "outputs": [
        {
          "output_type": "stream",
          "text": [
            "How are you?\n",
            "Great\n",
            "I feel great too.\n"
          ],
          "name": "stdout"
        }
      ]
    },
    {
      "cell_type": "code",
      "metadata": {
        "colab": {
          "base_uri": "https://localhost:8080/"
        },
        "id": "J2zzECFs_n5k",
        "outputId": "15ed1b1e-5934-40a2-821e-0a198f0c9b5b"
      },
      "source": [
        "\"hello\".isalpha()"
      ],
      "execution_count": null,
      "outputs": [
        {
          "output_type": "execute_result",
          "data": {
            "text/plain": [
              "True"
            ]
          },
          "metadata": {
            "tags": []
          },
          "execution_count": 22
        }
      ]
    },
    {
      "cell_type": "code",
      "metadata": {
        "colab": {
          "base_uri": "https://localhost:8080/"
        },
        "id": "mKxQ24s5ASI9",
        "outputId": "12cdd269-52c1-4388-f5da-72fc98320279"
      },
      "source": [
        "\"hello123\".isalpha()"
      ],
      "execution_count": null,
      "outputs": [
        {
          "output_type": "execute_result",
          "data": {
            "text/plain": [
              "False"
            ]
          },
          "metadata": {
            "tags": []
          },
          "execution_count": 23
        }
      ]
    },
    {
      "cell_type": "code",
      "metadata": {
        "colab": {
          "base_uri": "https://localhost:8080/"
        },
        "id": "s_WIv8KtAWOS",
        "outputId": "a5d05488-b479-41a0-ef81-a2630bb14e60"
      },
      "source": [
        "\"helolo123\".isalnum()"
      ],
      "execution_count": null,
      "outputs": [
        {
          "output_type": "execute_result",
          "data": {
            "text/plain": [
              "True"
            ]
          },
          "metadata": {
            "tags": []
          },
          "execution_count": 24
        }
      ]
    },
    {
      "cell_type": "code",
      "metadata": {
        "colab": {
          "base_uri": "https://localhost:8080/"
        },
        "id": "Q8B3iEQLAbYM",
        "outputId": "c94af50b-3694-48fb-9fa4-7eaa173870c5"
      },
      "source": [
        "\"123\".isdecimal()"
      ],
      "execution_count": null,
      "outputs": [
        {
          "output_type": "execute_result",
          "data": {
            "text/plain": [
              "True"
            ]
          },
          "metadata": {
            "tags": []
          },
          "execution_count": 25
        }
      ]
    },
    {
      "cell_type": "code",
      "metadata": {
        "colab": {
          "base_uri": "https://localhost:8080/"
        },
        "id": "KWgXrXCWAejT",
        "outputId": "5778b7ff-999d-48dc-a12f-95ff080ba024"
      },
      "source": [
        "\"  \".isspace()"
      ],
      "execution_count": null,
      "outputs": [
        {
          "output_type": "execute_result",
          "data": {
            "text/plain": [
              "True"
            ]
          },
          "metadata": {
            "tags": []
          },
          "execution_count": 26
        }
      ]
    },
    {
      "cell_type": "code",
      "metadata": {
        "colab": {
          "base_uri": "https://localhost:8080/"
        },
        "id": "8W-z9F7GAg_-",
        "outputId": "057e1281-a6f3-410d-dc01-5dbf7eff187f"
      },
      "source": [
        "\"Nguyen Dai Truong Thanh\".istitle()"
      ],
      "execution_count": null,
      "outputs": [
        {
          "output_type": "execute_result",
          "data": {
            "text/plain": [
              "True"
            ]
          },
          "metadata": {
            "tags": []
          },
          "execution_count": 28
        }
      ]
    },
    {
      "cell_type": "code",
      "metadata": {
        "colab": {
          "base_uri": "https://localhost:8080/"
        },
        "id": "fiNb8mcnAoAM",
        "outputId": "5da284fb-2b3a-40da-bfaf-7508c8c21c64"
      },
      "source": [
        "\"NGUYEN Dai Truong Thanh 123\".istitle()"
      ],
      "execution_count": null,
      "outputs": [
        {
          "output_type": "execute_result",
          "data": {
            "text/plain": [
              "False"
            ]
          },
          "metadata": {
            "tags": []
          },
          "execution_count": 29
        }
      ]
    },
    {
      "cell_type": "code",
      "metadata": {
        "colab": {
          "base_uri": "https://localhost:8080/"
        },
        "id": "ZeDD81ZfAuU6",
        "outputId": "68ba5c0e-ff54-494f-c232-a28de3e6f268"
      },
      "source": [
        "while True:\n",
        "  print(\"Enter your age:\")\n",
        "  age = input()\n",
        "  if age.isdecimal():\n",
        "    break\n",
        "  print(\"Please enter a number for your age.\")\n",
        "\n",
        "while True:\n",
        "  print(\"Select a new password (letters and numbers only):\")\n",
        "  password = input()\n",
        "  if password.isalnum():\n",
        "    break\n",
        "  print(\"Passwords can only have letters and numbers.\")"
      ],
      "execution_count": null,
      "outputs": [
        {
          "output_type": "stream",
          "text": [
            "Enter your age:\n",
            "Two\n",
            "Please enter a number for your age.\n",
            "Enter your age:\n",
            "22\n",
            "Select a new password (letters and numbers only):\n",
            "241 sd\n",
            "Passwords can only have letters and numbers.\n",
            "Select a new password (letters and numbers only):\n",
            "Thanh12\n"
          ],
          "name": "stdout"
        }
      ]
    },
    {
      "cell_type": "code",
      "metadata": {
        "id": "bUBrQJvPBTHC",
        "colab": {
          "base_uri": "https://localhost:8080/"
        },
        "outputId": "78d1bd75-7000-41c1-e116-2ffdf8f79b52"
      },
      "source": [
        "\"Hello, Thanh!\".startswith(\"Hello\")"
      ],
      "execution_count": 1,
      "outputs": [
        {
          "output_type": "execute_result",
          "data": {
            "text/plain": [
              "True"
            ]
          },
          "metadata": {
            "tags": []
          },
          "execution_count": 1
        }
      ]
    },
    {
      "cell_type": "code",
      "metadata": {
        "colab": {
          "base_uri": "https://localhost:8080/"
        },
        "id": "qtd0lGdw58Xg",
        "outputId": "bec214ca-98b8-4463-b9c0-229000754b3a"
      },
      "source": [
        "\"data collection\".endswith(\"tion\")"
      ],
      "execution_count": 2,
      "outputs": [
        {
          "output_type": "execute_result",
          "data": {
            "text/plain": [
              "True"
            ]
          },
          "metadata": {
            "tags": []
          },
          "execution_count": 2
        }
      ]
    },
    {
      "cell_type": "code",
      "metadata": {
        "colab": {
          "base_uri": "https://localhost:8080/",
          "height": 37
        },
        "id": "9JRAFA886Nnw",
        "outputId": "933c9ae8-e084-494a-bf51-933f85927656"
      },
      "source": [
        "job = \" \".join([\"I\",\"am\",\"a\",\"data\",\"engineer.\"])\n",
        "job"
      ],
      "execution_count": 6,
      "outputs": [
        {
          "output_type": "execute_result",
          "data": {
            "application/vnd.google.colaboratory.intrinsic+json": {
              "type": "string"
            },
            "text/plain": [
              "'I am a data engineer.'"
            ]
          },
          "metadata": {
            "tags": []
          },
          "execution_count": 6
        }
      ]
    },
    {
      "cell_type": "code",
      "metadata": {
        "colab": {
          "base_uri": "https://localhost:8080/"
        },
        "id": "OI-ixyZL7Kug",
        "outputId": "7398b2aa-1025-4c57-8df1-966c8749e249"
      },
      "source": [
        "job.split()"
      ],
      "execution_count": 7,
      "outputs": [
        {
          "output_type": "execute_result",
          "data": {
            "text/plain": [
              "['I', 'am', 'a', 'data', 'engineer.']"
            ]
          },
          "metadata": {
            "tags": []
          },
          "execution_count": 7
        }
      ]
    },
    {
      "cell_type": "code",
      "metadata": {
        "colab": {
          "base_uri": "https://localhost:8080/"
        },
        "id": "zTeheN8U7y3H",
        "outputId": "a083cf1d-0200-4bac-bf1d-206be4602cef"
      },
      "source": [
        "before, sep, after = \"Hello, world!\".partition(\" \")\n",
        "print(before)\n",
        "print(after)"
      ],
      "execution_count": 8,
      "outputs": [
        {
          "output_type": "stream",
          "text": [
            "Hello,\n",
            "world!\n"
          ],
          "name": "stdout"
        }
      ]
    },
    {
      "cell_type": "code",
      "metadata": {
        "colab": {
          "base_uri": "https://localhost:8080/",
          "height": 37
        },
        "id": "d3xDgFaI8xIh",
        "outputId": "c7dd6e69-76c5-4745-b514-7f2b7c800855"
      },
      "source": [
        "# justifying text\n",
        "\n",
        "\"AI\".rjust(10)"
      ],
      "execution_count": 10,
      "outputs": [
        {
          "output_type": "execute_result",
          "data": {
            "application/vnd.google.colaboratory.intrinsic+json": {
              "type": "string"
            },
            "text/plain": [
              "'        AI'"
            ]
          },
          "metadata": {
            "tags": []
          },
          "execution_count": 10
        }
      ]
    },
    {
      "cell_type": "code",
      "metadata": {
        "colab": {
          "base_uri": "https://localhost:8080/",
          "height": 37
        },
        "id": "6xypst0j9DKo",
        "outputId": "44c955cf-b6a3-4885-a5bf-401de6a13234"
      },
      "source": [
        "\"AI\".ljust(10)"
      ],
      "execution_count": 11,
      "outputs": [
        {
          "output_type": "execute_result",
          "data": {
            "application/vnd.google.colaboratory.intrinsic+json": {
              "type": "string"
            },
            "text/plain": [
              "'AI        '"
            ]
          },
          "metadata": {
            "tags": []
          },
          "execution_count": 11
        }
      ]
    },
    {
      "cell_type": "code",
      "metadata": {
        "colab": {
          "base_uri": "https://localhost:8080/",
          "height": 37
        },
        "id": "rjTWsaJX9Kk3",
        "outputId": "c3a99a2d-f577-4235-ae2b-cf9bb930a7ee"
      },
      "source": [
        "\"AI\".center(10,\"-\")"
      ],
      "execution_count": 12,
      "outputs": [
        {
          "output_type": "execute_result",
          "data": {
            "application/vnd.google.colaboratory.intrinsic+json": {
              "type": "string"
            },
            "text/plain": [
              "'----AI----'"
            ]
          },
          "metadata": {
            "tags": []
          },
          "execution_count": 12
        }
      ]
    },
    {
      "cell_type": "code",
      "metadata": {
        "colab": {
          "base_uri": "https://localhost:8080/"
        },
        "id": "rtQGfZ2V9O1t",
        "outputId": "a3c9f63c-851c-443d-e16d-9f400dad8159"
      },
      "source": [
        "def print_groceries(items_dict, left_width, right_width):\n",
        "  print(\"TO BUY THINGS\".center(left_width + right_width,\"-\"))\n",
        "  for k, v in items_dict.items():\n",
        "    print(k.ljust(left_width,\".\")+str(v).rjust(right_width))\n",
        "\n",
        "to_buy = {\"milk\":1,\"beef\":2,\"pork\":4,\"fish\":1}\n",
        "print_groceries(to_buy, 12, 5)"
      ],
      "execution_count": 15,
      "outputs": [
        {
          "output_type": "stream",
          "text": [
            "--TO BUY THINGS--\n",
            "milk........    1\n",
            "beef........    2\n",
            "pork........    4\n",
            "fish........    1\n"
          ],
          "name": "stdout"
        }
      ]
    },
    {
      "cell_type": "code",
      "metadata": {
        "colab": {
          "base_uri": "https://localhost:8080/",
          "height": 37
        },
        "id": "lMD8ibT_-gVZ",
        "outputId": "79351b3f-3c7f-4933-fc84-160ec4d0d303"
      },
      "source": [
        "hobby = \"   reading   \"\n",
        "hobby.strip()"
      ],
      "execution_count": 27,
      "outputs": [
        {
          "output_type": "execute_result",
          "data": {
            "application/vnd.google.colaboratory.intrinsic+json": {
              "type": "string"
            },
            "text/plain": [
              "'reading'"
            ]
          },
          "metadata": {
            "tags": []
          },
          "execution_count": 27
        }
      ]
    },
    {
      "cell_type": "code",
      "metadata": {
        "colab": {
          "base_uri": "https://localhost:8080/",
          "height": 37
        },
        "id": "JNOnYkEl_0Ju",
        "outputId": "29698692-7c98-46aa-d635-d7bbe0f2b07a"
      },
      "source": [
        "hobby.lstrip()"
      ],
      "execution_count": 17,
      "outputs": [
        {
          "output_type": "execute_result",
          "data": {
            "application/vnd.google.colaboratory.intrinsic+json": {
              "type": "string"
            },
            "text/plain": [
              "'reading   '"
            ]
          },
          "metadata": {
            "tags": []
          },
          "execution_count": 17
        }
      ]
    },
    {
      "cell_type": "code",
      "metadata": {
        "colab": {
          "base_uri": "https://localhost:8080/",
          "height": 37
        },
        "id": "5RqqyWSw_2lZ",
        "outputId": "43b92804-307f-442f-fd6e-8971fd4a4c83"
      },
      "source": [
        "hobby.rstrip()"
      ],
      "execution_count": 18,
      "outputs": [
        {
          "output_type": "execute_result",
          "data": {
            "application/vnd.google.colaboratory.intrinsic+json": {
              "type": "string"
            },
            "text/plain": [
              "'   reading'"
            ]
          },
          "metadata": {
            "tags": []
          },
          "execution_count": 18
        }
      ]
    },
    {
      "cell_type": "code",
      "metadata": {
        "colab": {
          "base_uri": "https://localhost:8080/",
          "height": 37
        },
        "id": "tZjUKHerAO9k",
        "outputId": "72b0ed12-891b-4877-a50c-57c2e38173f2"
      },
      "source": [
        "hobby = \"blabla\" + hobby + \"blabla\"\n",
        "hobby"
      ],
      "execution_count": 28,
      "outputs": [
        {
          "output_type": "execute_result",
          "data": {
            "application/vnd.google.colaboratory.intrinsic+json": {
              "type": "string"
            },
            "text/plain": [
              "'blabla   reading   blabla'"
            ]
          },
          "metadata": {
            "tags": []
          },
          "execution_count": 28
        }
      ]
    },
    {
      "cell_type": "code",
      "metadata": {
        "colab": {
          "base_uri": "https://localhost:8080/",
          "height": 37
        },
        "id": "vdGNkTvzAms6",
        "outputId": "b5558226-59bd-4f04-86a3-3da31083bf9f"
      },
      "source": [
        "hobby.strip(\"bla\").strip()"
      ],
      "execution_count": 29,
      "outputs": [
        {
          "output_type": "execute_result",
          "data": {
            "application/vnd.google.colaboratory.intrinsic+json": {
              "type": "string"
            },
            "text/plain": [
              "'reading'"
            ]
          },
          "metadata": {
            "tags": []
          },
          "execution_count": 29
        }
      ]
    },
    {
      "cell_type": "code",
      "metadata": {
        "colab": {
          "base_uri": "https://localhost:8080/"
        },
        "id": "ILwvQEdpAqPr",
        "outputId": "6d0945f7-af1e-494c-8f6c-cfce0131e6cd"
      },
      "source": [
        "ord(\"T\") + ord(\"h\") + ord(\"a\") + ord(\"n\") + ord(\"h\")"
      ],
      "execution_count": 33,
      "outputs": [
        {
          "output_type": "execute_result",
          "data": {
            "text/plain": [
              "499"
            ]
          },
          "metadata": {
            "tags": []
          },
          "execution_count": 33
        }
      ]
    },
    {
      "cell_type": "code",
      "metadata": {
        "colab": {
          "base_uri": "https://localhost:8080/",
          "height": 37
        },
        "id": "6VC8VOCoBStw",
        "outputId": "b132c44c-bdc9-4271-b96f-8c028803f6eb"
      },
      "source": [
        "chr(49) # unicode "
      ],
      "execution_count": 43,
      "outputs": [
        {
          "output_type": "execute_result",
          "data": {
            "application/vnd.google.colaboratory.intrinsic+json": {
              "type": "string"
            },
            "text/plain": [
              "'1'"
            ]
          },
          "metadata": {
            "tags": []
          },
          "execution_count": 43
        }
      ]
    },
    {
      "cell_type": "code",
      "metadata": {
        "colab": {
          "base_uri": "https://localhost:8080/"
        },
        "id": "w-GkX5knBl9n",
        "outputId": "c784d2b1-6974-4d22-9d36-b9639dd86f98"
      },
      "source": [
        "ord(\"T\") > ord(\"D\")"
      ],
      "execution_count": 44,
      "outputs": [
        {
          "output_type": "execute_result",
          "data": {
            "text/plain": [
              "True"
            ]
          },
          "metadata": {
            "tags": []
          },
          "execution_count": 44
        }
      ]
    },
    {
      "cell_type": "code",
      "metadata": {
        "colab": {
          "base_uri": "https://localhost:8080/",
          "height": 37
        },
        "id": "7GHN9COwB-Xj",
        "outputId": "75566d7e-77e5-4ab8-db79-c3acc74e0170"
      },
      "source": [
        "chr(ord(\"T\") + 35)"
      ],
      "execution_count": 45,
      "outputs": [
        {
          "output_type": "execute_result",
          "data": {
            "application/vnd.google.colaboratory.intrinsic+json": {
              "type": "string"
            },
            "text/plain": [
              "'w'"
            ]
          },
          "metadata": {
            "tags": []
          },
          "execution_count": 45
        }
      ]
    }
  ]
}