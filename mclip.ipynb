{
  "nbformat": 4,
  "nbformat_minor": 0,
  "metadata": {
    "colab": {
      "name": "mclip.ipynb",
      "provenance": [],
      "collapsed_sections": [],
      "authorship_tag": "ABX9TyNjbb3RVh4SUTb22vboYdFt",
      "include_colab_link": true
    },
    "kernelspec": {
      "name": "python3",
      "display_name": "Python 3"
    }
  },
  "cells": [
    {
      "cell_type": "markdown",
      "metadata": {
        "id": "view-in-github",
        "colab_type": "text"
      },
      "source": [
        "<a href=\"https://colab.research.google.com/github/thanhdtnguyen/Python-3-Programming/blob/master/mclip.ipynb\" target=\"_parent\"><img src=\"https://colab.research.google.com/assets/colab-badge.svg\" alt=\"Open In Colab\"/></a>"
      ]
    },
    {
      "cell_type": "code",
      "metadata": {
        "id": "admOVkDcImmS",
        "colab": {
          "base_uri": "https://localhost:8080/"
        },
        "outputId": "eb8d727d-c71a-455a-a6cc-692d69c28d35"
      },
      "source": [
        "pip install pyperclip"
      ],
      "execution_count": 2,
      "outputs": [
        {
          "output_type": "stream",
          "text": [
            "Collecting pyperclip\n",
            "  Downloading https://files.pythonhosted.org/packages/6f/4c/0b1d507ad7e8bc31d690d04b4f475e74c2002d060f7994ce8c09612df707/pyperclip-1.8.1.tar.gz\n",
            "Building wheels for collected packages: pyperclip\n",
            "  Building wheel for pyperclip (setup.py) ... \u001b[?25l\u001b[?25hdone\n",
            "  Created wheel for pyperclip: filename=pyperclip-1.8.1-cp36-none-any.whl size=11120 sha256=b94ac6981f45196e9b21a926f111443cd56f6faad51d53f2d4155237421c4af4\n",
            "  Stored in directory: /root/.cache/pip/wheels/44/10/3a/c830e9bb3db2c93274ea1f213a41fabde0d8cf3794251fad0c\n",
            "Successfully built pyperclip\n",
            "Installing collected packages: pyperclip\n",
            "Successfully installed pyperclip-1.8.1\n"
          ],
          "name": "stdout"
        }
      ]
    },
    {
      "cell_type": "code",
      "metadata": {
        "id": "86pewU_YItDH"
      },
      "source": [
        "#! python3\n",
        "# mclip.ipynb\n",
        "# automate the boring stuffs project\n",
        "\n",
        "TEXT = {\"agree\":\"\"\"Yes, I agree. That sounds fine to me.\"\"\",\n",
        "        \"busy\":\"\"\"Sorry, can we do this later this week or next week.\"\"\",\n",
        "        \"upsell\":\"\"\"Would you consider making this a monthly donation?\"\"\"}"
      ],
      "execution_count": 3,
      "outputs": []
    },
    {
      "cell_type": "code",
      "metadata": {
        "id": "4JSYpojsJnM0"
      },
      "source": [
        "import sys\n",
        "if len(sys.argv) < 2:\n",
        "  print(\"Usage: python mclip.py [keyphrase] - copy phrase text\")\n",
        "  sys.exit()\n",
        "\n",
        "keyphrase = sys.argv[1] # first command line arg is the keyphrase"
      ],
      "execution_count": 5,
      "outputs": []
    },
    {
      "cell_type": "code",
      "metadata": {
        "colab": {
          "base_uri": "https://localhost:8080/"
        },
        "id": "3iQjoZKmAjeb",
        "outputId": "75966fb7-6b93-4203-bda9-e84c8c05ff3b"
      },
      "source": [
        "if keyphrase in TEXT:\n",
        "  pyperclip.copy(TEXT[keyphrase])\n",
        "  print(\"Text for \" + keyphrase + \" copied to clipboard.\")\n",
        "else:\n",
        "  print(\"There is no text for \" + keyphrase)"
      ],
      "execution_count": 6,
      "outputs": [
        {
          "output_type": "stream",
          "text": [
            "There is no text for -f\n"
          ],
          "name": "stdout"
        }
      ]
    }
  ]
}